{
  "nbformat": 4,
  "nbformat_minor": 0,
  "metadata": {
    "colab": {
      "provenance": [],
      "gpuType": "T4"
    },
    "kernelspec": {
      "name": "python3",
      "display_name": "Python 3"
    },
    "language_info": {
      "name": "python"
    },
    "accelerator": "GPU",
    "gpuClass": "standard"
  },
  "cells": [
    {
      "cell_type": "code",
      "execution_count": null,
      "metadata": {
        "id": "gTULbgqijcNV",
        "colab": {
          "base_uri": "https://localhost:8080/"
        },
        "outputId": "b9c3a5ef-23d5-44f4-ee7c-a6dde9f990df"
      },
      "outputs": [
        {
          "output_type": "stream",
          "name": "stdout",
          "text": [
            "Mounted at /content/drive\n"
          ]
        }
      ],
      "source": [
        "from google.colab import drive\n",
        "drive.mount('/content/drive')\n"
      ]
    },
    {
      "cell_type": "code",
      "source": [
        "import torch\n",
        "import albumentations as A\n",
        "from albumentations.pytorch import ToTensorV2\n",
        "from tqdm import tqdm\n",
        "import torch.nn as nn\n",
        "import torch.optim as optim\n",
        "import sys\n",
        "sys.path.append('/content/drive/MyDrive/Project/Unet_Network')\n",
        "sys.path.append('/content/drive/MyDrive/Project/Unet_Network/Unet/')\n",
        "'''\n",
        "sys.path.insert(0,'/content/drive/MyDrive/Project/Unet_Network/Unet_network/')\n",
        "sys.path.insert(0,'/content/drive/MyDrive/unet_network/Unet/')\n",
        "'''\n",
        "#import Unet\n",
        "# from model import UNET\n",
        "from model_2 import UNet11\n",
        "from utils import(\n",
        "     load_checkpoint,\n",
        "     save_checkpoint,\n",
        "     get_loaders,\n",
        "     check_accuracy,\n",
        "     save_predictions_as_imgs,\n",
        ")\n",
        "#hyperparameter\n",
        "LERNING_RATE = 1e-4\n",
        "DEVICE = \"cuda\" if torch.cuda.is_available() else \"cpu\"\n",
        "BATCH_SIZE= 16\n",
        "NUM_EPOCHS=10\n",
        "NUM_WORKERS = 2\n",
        "IMAGE_HEIGHT= 256\n",
        "IMAGE_WIDTH= 256\n",
        "PIN_MEMORY = True\n",
        "LOAD_MODEL = False\n",
        "TRAIN_IMG_DIR ='/content/drive/MyDrive/Project/data/train/images/'\n",
        "TRIN_MASK_DIR ='/content/drive/MyDrive/Project/data/train/mask/'\n",
        "VAL_IMG_DIR = '/content/drive/MyDrive/Project/data/valid/images/'\n",
        "VAL_MASK_DIR = '/content/drive/MyDrive/Project/data/valid/mask/'"
      ],
      "metadata": {
        "id": "0PW9YntEj18h"
      },
      "execution_count": null,
      "outputs": []
    },
    {
      "cell_type": "code",
      "source": [
        "!pip install tensorflow==1.15\n",
        "!pip install keras==2.2.5\n",
        "# !pip install skimage==0.16.2\n",
        "# !pip install opencv-python==4.1.2\n",
        "!pip install h5py==2.8.0\n",
        "# !pip install tqdm\n",
        "# !pip install pandas==0.25.3\n",
        "!pip install numpy==1.17.5"
      ],
      "metadata": {
        "id": "_53K2m4ZmPuR"
      },
      "execution_count": null,
      "outputs": []
    },
    {
      "cell_type": "code",
      "source": [
        "import warnings\n",
        "warnings.filterwarnings('ignore')\n",
        "\n",
        "import os\n",
        "import cv2\n",
        "from google.colab.patches import cv2_imshow\n",
        "import numpy as np\n",
        "import tensorflow as tf\n",
        "import pandas as pd\n",
        "from keras.models import Model, load_model\n",
        "from skimage.morphology import label\n",
        "import pickle\n",
        "# import tensorflow.keras.backend as K\n",
        "\n",
        "from matplotlib import pyplot as plt\n",
        "from tqdm import tqdm_notebook\n",
        "import random\n",
        "from skimage.io import imread, imshow, imread_collection, concatenate_images\n",
        "import h5py\n",
        "\n",
        "from sklearn.model_selection import train_test_split\n",
        "\n",
        "from PIL import Image\n",
        "\n",
        "import imageio\n",
        "import imgaug as ia\n",
        "import imgaug.augmenters as iaa\n",
        "import numpy as np\n",
        "import pandas as pd\n",
        "import matplotlib.pyplot as plt\n",
        "import matplotlib.patches as patches\n",
        "import matplotlib\n",
        "%matplotlib inline\n",
        "\n",
        "from keras.layers import Conv2D, UpSampling2D, Input\n",
        "from keras.models import Sequential, Model\n",
        "# from keras.preprocessing.image import ImageDataGenerator, img_to_array, load_img\n",
        "from keras.preprocessing.image import ImageDataGenerator\n",
        "from keras.layers import Dense, Activation\n",
        "from keras import layers\n",
        "from keras.models import Model, load_model\n",
        "import tensorflow as tf\n",
        "from keras.layers.core import Dropout, Lambda\n",
        "from keras.layers.convolutional import Conv2D, Conv2DTranspose\n",
        "from keras.layers.pooling import MaxPooling2D\n",
        "from keras.layers.merge import concatenate\n",
        "from keras import optimizers\n",
        "from keras.layers import BatchNormalization\n",
        "# from tensorflow.keras.metrics import MeanIoU\n",
        "import keras\n",
        "from keras import backend as K\n",
        "\n",
        "seed = 56"
      ],
      "metadata": {
        "id": "7EOIAZ8RkEQs"
      },
      "execution_count": null,
      "outputs": []
    },
    {
      "cell_type": "markdown",
      "source": [
        "# Defining Custom Loss functions and accuracy Metric."
      ],
      "metadata": {
        "id": "AuOU2W9jpnpJ"
      }
    },
    {
      "cell_type": "code",
      "metadata": {
        "id": "OmI15mzGmD_R"
      },
      "source": [
        "#Source: https://towardsdatascience.com/metrics-to-evaluate-your-semantic-segmentation-model-6bcb99639aa2\n",
        "\n",
        "def iou_coef(y_true, y_pred, smooth=1):\n",
        "  intersection = K.sum(K.abs(y_true * y_pred), axis=[1,2,3])\n",
        "  union = K.sum(y_true,[1,2,3])+K.sum(y_pred,[1,2,3])-intersection\n",
        "  iou = K.mean((intersection + smooth) / (union + smooth), axis=0)\n",
        "  return iou"
      ],
      "execution_count": null,
      "outputs": []
    },
    {
      "cell_type": "code",
      "metadata": {
        "id": "bxUwv6N4gwQ0"
      },
      "source": [
        "def dice_coef(y_true, y_pred, smooth = 1):\n",
        "    y_true_f = K.flatten(y_true)\n",
        "    y_pred_f = K.flatten(y_pred)\n",
        "    intersection = K.sum(y_true_f * y_pred_f)\n",
        "    return (2. * intersection + smooth) / (K.sum(y_true_f) + K.sum(y_pred_f) + smooth)\n",
        "\n",
        "def soft_dice_loss(y_true, y_pred):\n",
        "    return 1-dice_coef(y_true, y_pred)"
      ],
      "execution_count": null,
      "outputs": []
    },
    {
      "cell_type": "markdown",
      "source": [
        "#Load data"
      ],
      "metadata": {
        "id": "VpFyYVJfDyjn"
      }
    },
    {
      "cell_type": "code",
      "source": [
        "imagesPath = \"/content/drive/MyDrive/Project/data/images\"\n",
        "from os import listdir\n",
        "from os.path import isfile, join\n",
        "onlyfiles = [f for f in listdir(imagesPath) if isfile(join(imagesPath, f))]"
      ],
      "metadata": {
        "id": "_9_dLXQ7zLaX"
      },
      "execution_count": null,
      "outputs": []
    },
    {
      "cell_type": "code",
      "source": [
        "print(onlyfiles)"
      ],
      "metadata": {
        "colab": {
          "base_uri": "https://localhost:8080/"
        },
        "id": "iFZxsQ4ZEydd",
        "outputId": "86d43c21-cd43-4d7f-dae7-d74cea14a43d"
      },
      "execution_count": null,
      "outputs": [
        {
          "output_type": "stream",
          "name": "stdout",
          "text": [
            "['Copy of n-11-s-48.bmp', 'Copy of n-11-d-160.bmp', 'Copy of n-11-s-88.bmp', 'Copy of n-11-s-68.bmp', 'Copy of n-11-s-28.bmp', 'Copy of n-11-s-108.bmp', 'Copy of n-11-s-128.bmp', 'Copy of n-11-d-180.bmp', 'Copy of n-11-s-168.bmp', 'Copy of n-11-s-148.bmp', 'Copy of n-11-d-120.bmp', 'Copy of n-07-s-186.bmp', 'Copy of n-11-d-100.bmp', 'Copy of n-11-d-20.bmp', 'Copy of n-11-d-40.bmp', 'Copy of n-07-s-146.bmp', 'Copy of n-07-s-166.bmp', 'Copy of n-11-d-140.bmp', 'Copy of n-11-d-80.bmp', 'Copy of n-11-d-60.bmp', 'Copy of n-07-s-126.bmp', 'Copy of n-07-d-140.bmp', 'Copy of n-07-d-200.bmp', 'Copy of n-07-s-106.bmp', 'Copy of n-07-s-66.bmp', 'Copy of n-07-d-180.bmp', 'Copy of n-07-s-46.bmp', 'Copy of n-07-d-160.bmp', 'Copy of n-07-s-86.bmp', 'Copy of n-07-d-220.bmp', 'Copy of n-07-d-80.bmp', 'Copy of n-06-s-68.bmp', 'Copy of n-06-s-128.bmp', 'Copy of n-07-d-40.bmp', 'Copy of n-06-s-148.bmp', 'Copy of n-07-d-60.bmp', 'Copy of n-07-d-100.bmp', 'Copy of n-07-d-120.bmp', 'Copy of n-06-s-108.bmp', 'Copy of n-06-s-88.bmp', 'Copy of n-06-d-119.bmp', 'Copy of n-06-d-79.bmp', 'Copy of n-06-d-139.bmp', 'Copy of n-06-d-99.bmp', 'Copy of n-06-s-48.bmp', 'Copy of n-06-d-39.bmp', 'Copy of n-02-s-148.bmp', 'Copy of n-06-d-59.bmp', 'Copy of n-06-d-159.bmp', 'Copy of n-02-s-168.bmp', 'Copy of n-10-d-180.bmp', 'Copy of n-10-s-47.bmp', 'Copy of n-10-d-160.bmp', 'Copy of n-10-s-87.bmp', 'Copy of n-10-d-200.bmp', 'Copy of n-10-s-27.bmp', 'Copy of n-10-s-107.bmp', 'Copy of n-10-s-127.bmp', 'Copy of n-10-s-147.bmp', 'Copy of n-10-s-67.bmp', 'Copy of n-10-d-140.bmp', 'Copy of n-05-s-88.bmp', 'Copy of n-05-s-128.bmp', 'Copy of n-10-d-60.bmp', 'Copy of n-10-d-100.bmp', 'Copy of n-10-d-20.bmp', 'Copy of n-05-s-108.bmp', 'Copy of n-10-d-80.bmp', 'Copy of n-10-d-40.bmp', 'Copy of n-10-d-120.bmp', 'Copy of n-05-d-100.bmp', 'Copy of n-05-d-120.bmp', 'Copy of n-05-s-28.bmp', 'Copy of n-05-s-48.bmp', 'Copy of n-05-s-8.bmp', 'Copy of n-05-d-160.bmp', 'Copy of n-05-s-68.bmp', 'Copy of n-05-d-80.bmp', 'Copy of n-05-d-140.bmp', 'Copy of n-05-d-60.bmp', 'Copy of hyp-40-s-165.bmp', 'Copy of n-05-d-20.bmp', 'Copy of hyp-40-s-65.bmp', 'Copy of hyp-40-s-105.bmp', 'Copy of hyp-40-s-205.bmp', 'Copy of hyp-40-s-125.bmp', 'Copy of n-05-d-40.bmp', 'Copy of hyp-40-s-145.bmp', 'Copy of hyp-40-s-185.bmp', 'Copy of hyp-40-s-85.bmp', 'Copy of hyp-40-d-119.bmp', 'Copy of hyp-40-d-59.bmp', 'Copy of hyp-40-d-79.bmp', 'Copy of hyp-40-d-219.bmp', 'Copy of hyp-40-d-179.bmp', 'Copy of hyp-40-d-99.bmp', 'Copy of hyp-40-s-45.bmp', 'Copy of hyp-40-d-139.bmp', 'Copy of hyp-40-d-159.bmp', 'Copy of hyp-40-d-199.bmp']\n"
          ]
        }
      ]
    },
    {
      "cell_type": "code",
      "source": [
        "!pwd"
      ],
      "metadata": {
        "colab": {
          "base_uri": "https://localhost:8080/"
        },
        "id": "EL49mGndyiGg",
        "outputId": "0b35e127-b410-4884-8289-9d6e5f051faa"
      },
      "execution_count": null,
      "outputs": [
        {
          "output_type": "stream",
          "name": "stdout",
          "text": [
            "/content\n"
          ]
        }
      ]
    },
    {
      "cell_type": "code",
      "source": [
        "%cd /content/drive/MyDrive/Project/data/"
      ],
      "metadata": {
        "colab": {
          "base_uri": "https://localhost:8080/"
        },
        "id": "C4xdIFVnym2k",
        "outputId": "d6e14ac9-1af2-4135-e5bc-5d7c579b8ba2"
      },
      "execution_count": null,
      "outputs": [
        {
          "output_type": "stream",
          "name": "stdout",
          "text": [
            "/content/drive/MyDrive/Project/data\n"
          ]
        }
      ]
    },
    {
      "cell_type": "code",
      "source": [
        "\"images/\" + onlyfiles[0]"
      ],
      "metadata": {
        "colab": {
          "base_uri": "https://localhost:8080/",
          "height": 35
        },
        "id": "gPOX5YXTFEkP",
        "outputId": "dbda1ce3-46f2-4694-e5da-b0b22244e545"
      },
      "execution_count": null,
      "outputs": [
        {
          "output_type": "execute_result",
          "data": {
            "text/plain": [
              "'images/Copy of n-11-s-48.bmp'"
            ],
            "application/vnd.google.colaboratory.intrinsic+json": {
              "type": "string"
            }
          },
          "metadata": {},
          "execution_count": 15
        }
      ]
    },
    {
      "cell_type": "code",
      "source": [
        "imgs = []\n",
        "for i in range(100):\n",
        "    imgs.append(cv2.resize(cv2.imread(\"images/\" + onlyfiles[i]) , (128,128), interpolation = cv2.INTER_AREA))"
      ],
      "metadata": {
        "id": "bqebl_90eGoG"
      },
      "execution_count": null,
      "outputs": []
    },
    {
      "cell_type": "code",
      "source": [
        "img = cv2.resize(cv2.imread(\"images/\"+\"Copy of n-11-s-48.bmp\"), (128,128), interpolation = cv2.INTER_AREA)\n",
        "\n"
      ],
      "metadata": {
        "id": "dGii2vVJ0GlN"
      },
      "execution_count": null,
      "outputs": []
    },
    {
      "cell_type": "code",
      "source": [
        "imgs = np.array(imgs)\n",
        "my_imgs = []\n",
        "for img in imgs:\n",
        "  # i = i+1\n",
        "  # img = cv2.resize(cv2.imread(\"/content/drive/MyDrive/MorphoDataset/\"+str(i)+\".jpg\"), (256,256), interpolation = cv2.INTER_AREA)\n",
        "  img = Image.fromarray(img)\n",
        "  Icmyk = img.convert('CMYK')\n",
        "  img = np.array(Icmyk)[:,:,1]\n",
        "  # expand masks dimension\n",
        "  # img = np.array(np.expand_dims(img, -1))\n",
        "\n",
        "  img2 = np.zeros((128, 128, 3))\n",
        "  img2[:,:,0] = img\n",
        "  img2[:,:,1] = img\n",
        "  img2[:,:,2] = img\n",
        "  img = img2\n",
        "  my_imgs.append(img)\n",
        ""
      ],
      "metadata": {
        "id": "y3cZA-hCJBRx"
      },
      "execution_count": null,
      "outputs": []
    },
    {
      "cell_type": "code",
      "source": [
        "maskPath = \"/content/drive/MyDrive/Project/data/mask\"\n",
        "from os import listdir\n",
        "from os.path import isfile, join\n",
        "maskFiles = [f for f in listdir(maskPath) if isfile(join(maskPath, f))]"
      ],
      "metadata": {
        "id": "MopTchhGGboi"
      },
      "execution_count": null,
      "outputs": []
    },
    {
      "cell_type": "code",
      "source": [
        "masks = []\n",
        "for i in range(100):\n",
        "    # masks.append(cv2.resize(cv2.imread(\"mask/\" + maskFiles[i], 0), (256,256), interpolation = cv2.INTER_AREA))\n",
        "    img = cv2.resize(cv2.imread(\"mask/\" + maskFiles[i], 0), (128,128), interpolation = cv2.INTER_AREA)\n",
        "    masks.append(np.array(np.expand_dims(img, -1)))\n",
        ""
      ],
      "metadata": {
        "id": "P4j7TEf7_ZLn"
      },
      "execution_count": null,
      "outputs": []
    },
    {
      "cell_type": "code",
      "source": [
        "my_masks = np.array(masks)\n",
        "my_imgs = np.array(my_imgs)\n",
        "print(my_imgs.shape)\n",
        "print(my_masks.shape)"
      ],
      "metadata": {
        "colab": {
          "base_uri": "https://localhost:8080/"
        },
        "id": "OrcuSIoGKHfy",
        "outputId": "b454117d-a836-4444-b86f-e98cf396794c"
      },
      "execution_count": null,
      "outputs": [
        {
          "output_type": "stream",
          "name": "stdout",
          "text": [
            "(100, 128, 128, 3)\n",
            "(100, 128, 128, 1)\n"
          ]
        }
      ]
    },
    {
      "cell_type": "markdown",
      "source": [
        "#Split data"
      ],
      "metadata": {
        "id": "OR_yBiaMEn9G"
      }
    },
    {
      "cell_type": "code",
      "source": [
        "train_images, test_images, train_masks, test_masks = train_test_split(my_imgs, my_masks, test_size=0.2, random_state=seed)\n",
        "# del images, masks\n",
        "print(\"TRAIN SET\")\n",
        "print(train_images.shape)\n",
        "print(train_masks.shape)\n",
        "print(\"TEST SET\")\n",
        "print(test_images.shape)\n",
        "print(test_masks.shape)"
      ],
      "metadata": {
        "colab": {
          "base_uri": "https://localhost:8080/"
        },
        "id": "_KXzxg3YEqAO",
        "outputId": "abac5651-9d58-4953-c4be-a5470da6e782"
      },
      "execution_count": null,
      "outputs": [
        {
          "output_type": "stream",
          "name": "stdout",
          "text": [
            "TRAIN SET\n",
            "(80, 256, 256, 3)\n",
            "(80, 256, 256, 1)\n",
            "TEST SET\n",
            "(20, 256, 256, 3)\n",
            "(20, 256, 256, 1)\n"
          ]
        }
      ]
    },
    {
      "cell_type": "markdown",
      "source": [
        "#Define Model"
      ],
      "metadata": {
        "id": "SKyTx8Q3EvwW"
      }
    },
    {
      "cell_type": "code",
      "source": [
        "inputs = Input((IMAGE_HEIGHT, IMAGE_WIDTH, 3))\n",
        "s = Lambda(lambda x: x / 255) (inputs)\n",
        "\n",
        "conv1 = Conv2D(16, (3, 3), activation='elu', kernel_initializer='he_normal', padding='same') (inputs)\n",
        "conv1 = BatchNormalization() (conv1)\n",
        "conv1 = Dropout(0.1) (conv1)\n",
        "conv1 = Conv2D(16, (3, 3), activation='elu', kernel_initializer='he_normal', padding='same') (conv1)\n",
        "conv1 = BatchNormalization() (conv1)\n",
        "pooling1 = MaxPooling2D((2, 2)) (conv1)\n",
        "\n",
        "conv2 = Conv2D(32, (3, 3), activation='elu', kernel_initializer='he_normal', padding='same') (pooling1)\n",
        "conv2 = BatchNormalization() (conv2)\n",
        "conv2 = Dropout(0.1) (conv2)\n",
        "conv2 = Conv2D(32, (3, 3), activation='elu', kernel_initializer='he_normal', padding='same') (conv2)\n",
        "conv2 = BatchNormalization() (conv2)\n",
        "pooling2 = MaxPooling2D((2, 2)) (conv2)\n",
        "\n",
        "conv3 = Conv2D(64, (3, 3), activation='elu', kernel_initializer='he_normal', padding='same') (pooling2)\n",
        "conv3 = BatchNormalization() (conv3)\n",
        "conv3 = Dropout(0.2) (conv3)\n",
        "conv3 = Conv2D(64, (3, 3), activation='elu', kernel_initializer='he_normal', padding='same') (conv3)\n",
        "conv3 = BatchNormalization() (conv3)\n",
        "pooling3 = MaxPooling2D((2, 2)) (conv3)\n",
        "\n",
        "conv4 = Conv2D(128, (3, 3), activation='elu', kernel_initializer='he_normal', padding='same') (pooling3)\n",
        "conv4 = BatchNormalization() (conv4)\n",
        "conv4 = Dropout(0.2) (conv4)\n",
        "conv4 = Conv2D(128, (3, 3), activation='elu', kernel_initializer='he_normal', padding='same') (conv4)\n",
        "conv4 = BatchNormalization() (conv4)\n",
        "pooling4 = MaxPooling2D(pool_size=(2, 2)) (conv4)\n",
        "\n",
        "conv5 = Conv2D(256, (3, 3), activation='elu', kernel_initializer='he_normal', padding='same') (pooling4)\n",
        "conv5 = BatchNormalization() (conv5)\n",
        "conv5 = Dropout(0.3) (conv5)\n",
        "conv5 = Conv2D(256, (3, 3), activation='elu', kernel_initializer='he_normal', padding='same') (conv5)\n",
        "conv5 = BatchNormalization() (conv5)\n",
        "\n",
        "\n",
        "upsample6 = Conv2DTranspose(128, (2, 2), strides=(2, 2), padding='same') (conv5)\n",
        "upsample6 = concatenate([upsample6, conv4])\n",
        "conv6 = Conv2D(128, (3, 3), activation='elu', kernel_initializer='he_normal', padding='same') (upsample6)\n",
        "conv6 = BatchNormalization() (conv6)\n",
        "conv6 = Dropout(0.2) (conv6)\n",
        "conv6 = Conv2D(128, (3, 3), activation='elu', kernel_initializer='he_normal', padding='same') (conv6)\n",
        "conv6 = BatchNormalization() (conv6)\n",
        "\n",
        "upsample7 = Conv2DTranspose(64, (2, 2), strides=(2, 2), padding='same') (conv6)\n",
        "upsample7 = concatenate([upsample7, conv3])\n",
        "conv7 = Conv2D(64, (3, 3), activation='elu', kernel_initializer='he_normal', padding='same') (upsample7)\n",
        "conv7 = BatchNormalization() (conv7)\n",
        "conv7 = Dropout(0.2) (conv7)\n",
        "conv7 = Conv2D(64, (3, 3), activation='elu', kernel_initializer='he_normal', padding='same') (conv7)\n",
        "conv7 = BatchNormalization() (conv7)\n",
        "\n",
        "upsample8 = Conv2DTranspose(32, (2, 2), strides=(2, 2), padding='same') (conv7)\n",
        "upsample8 = concatenate([upsample8, conv2])\n",
        "conv8 = Conv2D(32, (3, 3), activation='elu', kernel_initializer='he_normal', padding='same') (upsample8)\n",
        "conv8 = BatchNormalization() (conv8)\n",
        "conv8 = Dropout(0.1) (conv8)\n",
        "conv8 = Conv2D(32, (3, 3), activation='elu', kernel_initializer='he_normal', padding='same') (conv8)\n",
        "conv8 = BatchNormalization() (conv8)\n",
        "\n",
        "upsample9 = Conv2DTranspose(16, (2, 2), strides=(2, 2), padding='same') (conv8)\n",
        "upsample9 = concatenate([upsample9, conv1], axis=3)\n",
        "conv9 = Conv2D(16, (3, 3), activation='elu', kernel_initializer='he_normal', padding='same') (upsample9)\n",
        "conv9 = BatchNormalization() (conv9)\n",
        "conv9 = Dropout(0.1) (conv9)\n",
        "conv9 = Conv2D(16, (3, 3), activation='elu', kernel_initializer='he_normal', padding='same') (conv9)\n",
        "conv9 = BatchNormalization() (conv9)\n",
        "\n",
        "outputs = Conv2D(1, (1, 1), activation='sigmoid') (conv9)\n",
        "\n",
        "model = Model(inputs=[inputs], outputs=[outputs])\n",
        "model.summary()"
      ],
      "metadata": {
        "id": "nXEmEletEzwt"
      },
      "execution_count": null,
      "outputs": []
    },
    {
      "cell_type": "markdown",
      "source": [
        "#Hyper Parameters"
      ],
      "metadata": {
        "id": "ApeSmGTOE6wJ"
      }
    },
    {
      "cell_type": "code",
      "source": [
        "EPOCHS = 100\n",
        "LEARNING_RATE = 0.0001\n",
        "BATCH_SIZE = 16"
      ],
      "metadata": {
        "id": "klDJq5RkE9Gn"
      },
      "execution_count": null,
      "outputs": []
    },
    {
      "cell_type": "markdown",
      "source": [
        "#Initializing Callbacks"
      ],
      "metadata": {
        "id": "vxxhzDMlFBaX"
      }
    },
    {
      "cell_type": "code",
      "source": [
        "# from tensorboardcolab import TensorBoardColab, TensorBoardColabCallback\n",
        "from keras.callbacks import EarlyStopping, ModelCheckpoint, ReduceLROnPlateau\n",
        "from datetime import datetime"
      ],
      "metadata": {
        "id": "q0p3UUOXE_r9"
      },
      "execution_count": null,
      "outputs": []
    },
    {
      "cell_type": "code",
      "source": [
        "model_path = \"skeyenet/Models/road_mapper_2.h5\"\n",
        "checkpointer = ModelCheckpoint(model_path,\n",
        "                             monitor=\"val_loss\",\n",
        "                             mode=\"min\",\n",
        "                             save_best_only = True,\n",
        "                             verbose=1)\n",
        "\n",
        "earlystopper = EarlyStopping(monitor = 'val_loss',\n",
        "                          min_delta = 0,\n",
        "                          patience = 5,\n",
        "                          verbose = 1,\n",
        "                          restore_best_weights = True)\n",
        "\n",
        "lr_reducer = ReduceLROnPlateau(monitor='val_loss',\n",
        "                               factor=0.1,\n",
        "                               patience=4,\n",
        "                               verbose=1,\n",
        "                               epsilon=1e-4)"
      ],
      "metadata": {
        "colab": {
          "base_uri": "https://localhost:8080/"
        },
        "id": "OZ1hZc6zFLdX",
        "outputId": "60f8e5cb-520a-422f-d4a9-b5c5d0e73e8b"
      },
      "execution_count": null,
      "outputs": [
        {
          "output_type": "stream",
          "name": "stderr",
          "text": [
            "WARNING:tensorflow:`epsilon` argument is deprecated and will be removed, use `min_delta` instead.\n"
          ]
        }
      ]
    },
    {
      "cell_type": "markdown",
      "source": [
        "#Compiling Model"
      ],
      "metadata": {
        "id": "NRcpMFxCFO7L"
      }
    },
    {
      "cell_type": "code",
      "source": [
        "# opt = keras.optimizers.adam(LEARNING_RATE)\n",
        "opt = tf.keras.optimizers.Adam(learning_rate=LEARNING_RATE, beta_1=0.5)\n",
        "model.compile(\n",
        "      optimizer=opt,\n",
        "      loss=soft_dice_loss,\n",
        "      metrics=[iou_coef])"
      ],
      "metadata": {
        "id": "SY4zOI0nFRLb"
      },
      "execution_count": null,
      "outputs": []
    },
    {
      "cell_type": "code",
      "source": [
        "history = model.fit(train_images,\n",
        "                    train_masks/255,\n",
        "                    validation_split = 0.1,\n",
        "                    epochs=EPOCHS,\n",
        "                    batch_size = BATCH_SIZE,\n",
        "                    # callbacks = [checkpointer, earlystopper, lr_reducer, TensorBoardColabCallback(tbc)]\n",
        "                    callbacks = [checkpointer, earlystopper, lr_reducer]\n",
        "                       )"
      ],
      "metadata": {
        "colab": {
          "base_uri": "https://localhost:8080/",
          "height": 235
        },
        "id": "fnmjau61FWLj",
        "outputId": "6f70f901-ed8e-42eb-ab5d-b8267fa77431"
      },
      "execution_count": null,
      "outputs": [
        {
          "output_type": "error",
          "ename": "NameError",
          "evalue": "ignored",
          "traceback": [
            "\u001b[0;31m---------------------------------------------------------------------------\u001b[0m",
            "\u001b[0;31mNameError\u001b[0m                                 Traceback (most recent call last)",
            "\u001b[0;32m<ipython-input-66-642a4c23d2c1>\u001b[0m in \u001b[0;36m<cell line: 1>\u001b[0;34m()\u001b[0m\n\u001b[0;32m----> 1\u001b[0;31m history = model.fit(train_images,\n\u001b[0m\u001b[1;32m      2\u001b[0m                     \u001b[0mtrain_masks\u001b[0m\u001b[0;34m/\u001b[0m\u001b[0;36m255\u001b[0m\u001b[0;34m,\u001b[0m\u001b[0;34m\u001b[0m\u001b[0;34m\u001b[0m\u001b[0m\n\u001b[1;32m      3\u001b[0m                     \u001b[0mvalidation_split\u001b[0m \u001b[0;34m=\u001b[0m \u001b[0;36m0.1\u001b[0m\u001b[0;34m,\u001b[0m\u001b[0;34m\u001b[0m\u001b[0;34m\u001b[0m\u001b[0m\n\u001b[1;32m      4\u001b[0m                     \u001b[0mepochs\u001b[0m\u001b[0;34m=\u001b[0m\u001b[0mEPOCHS\u001b[0m\u001b[0;34m,\u001b[0m\u001b[0;34m\u001b[0m\u001b[0;34m\u001b[0m\u001b[0m\n\u001b[1;32m      5\u001b[0m                     \u001b[0mbatch_size\u001b[0m \u001b[0;34m=\u001b[0m \u001b[0mBATCH_SIZE\u001b[0m\u001b[0;34m,\u001b[0m\u001b[0;34m\u001b[0m\u001b[0;34m\u001b[0m\u001b[0m\n",
            "\u001b[0;31mNameError\u001b[0m: name 'train_images' is not defined"
          ]
        }
      ]
    },
    {
      "cell_type": "code",
      "source": [
        "model.save(\"skeyenet/Models/road_mapper_final.h5\")"
      ],
      "metadata": {
        "id": "DYmOBvUnFZGG"
      },
      "execution_count": null,
      "outputs": []
    },
    {
      "cell_type": "markdown",
      "source": [
        "# Data Augmentation"
      ],
      "metadata": {
        "id": "p4lz7fDREhcT"
      }
    },
    {
      "cell_type": "code",
      "source": [
        "X, Y =[], []"
      ],
      "metadata": {
        "id": "sIdN7jq5OhIf"
      },
      "execution_count": null,
      "outputs": []
    },
    {
      "cell_type": "code",
      "source": [
        "for i, img in enumerate(my_imgs):\n",
        "  X.append(np.array(img, dtype = np.float32))\n",
        "  Y.append(np.array(my_masks[i], dtype = np.float32))\n",
        "\n",
        "  #flip horizontally\n",
        "  flip_hr=iaa.Fliplr(p=1.0)\n",
        "  X.append(np.array(flip_hr.augment_image(img), dtype = np.float32))\n",
        "  Y.append(np.array(flip_hr.augment_image(my_masks[i]), dtype = np.float32))\n",
        "\n",
        "  #Flip vertically\n",
        "  flip_vr=iaa.Flipud(p=1.0)\n",
        "  X.append(np.array(flip_vr.augment_image(img), dtype = np.float32))\n",
        "  Y.append(np.array(flip_vr.augment_image(my_masks[i]), dtype = np.float32))\n",
        "\n",
        "  # Contrast\n",
        "  contrast=iaa.GammaContrast(gamma=0.9)\n",
        "  X.append(np.array(contrast.augment_image(img), dtype = np.float32))\n",
        "  Y.append(np.array(my_masks[i], dtype = np.float32))\n",
        "\n",
        "  # Rotate\n",
        "\n",
        "  rotate = iaa.Rotate((-45, 45))\n",
        "  X.append(np.array(rotate.augment_image(img), dtype = np.float32))\n",
        "  Y.append(np.array(rotate.augment_image(my_masks[i]), dtype = np.float32))\n",
        "\n",
        "  # ScaleX\n",
        "\n",
        "  scale = iaa.ScaleX((0.5, 1.5))\n",
        "  X.append(np.array(scale.augment_image(img), dtype = np.float32))\n",
        "  Y.append(np.array(scale.augment_image(my_masks[i]), dtype = np.float32))\n",
        "\n",
        "  # # CropToFixedSize\n",
        "  # crop = iaa.CropToFixedSize(width=100, height=100)\n",
        "  # X.append(np.array(crop.augment_image(img), dtype = np.float32))\n",
        "  # Y.append(np.array(crop.augment_image(my_masks[i]), dtype = np.float32))\n"
      ],
      "metadata": {
        "id": "xkbTNaakTosE"
      },
      "execution_count": null,
      "outputs": []
    },
    {
      "cell_type": "code",
      "source": [
        "X = np.array(X)\n",
        "Y = np.array(Y)\n",
        "print(X.shape)\n",
        "print(Y.shape)"
      ],
      "metadata": {
        "id": "fns_LAFQXjI7",
        "outputId": "1a47fd03-0a34-47d4-fd71-9bec95069f2b",
        "colab": {
          "base_uri": "https://localhost:8080/"
        }
      },
      "execution_count": null,
      "outputs": [
        {
          "output_type": "stream",
          "name": "stdout",
          "text": [
            "(600, 128, 128, 3)\n",
            "(600, 128, 128, 1)\n"
          ]
        }
      ]
    },
    {
      "cell_type": "code",
      "source": [
        "!pwd\n"
      ],
      "metadata": {
        "colab": {
          "base_uri": "https://localhost:8080/"
        },
        "id": "1IkgKqpHIxgV",
        "outputId": "1ce7c28b-4bc3-48e5-f2af-57168cc52e2c"
      },
      "execution_count": null,
      "outputs": [
        {
          "output_type": "stream",
          "name": "stdout",
          "text": [
            "/content/drive/MyDrive/Project/data\n"
          ]
        }
      ]
    },
    {
      "cell_type": "code",
      "metadata": {
        "id": "nHcafCucPwsN"
      },
      "source": [
        "# model_base = load_model(\"road_mapper_final.h5\", custom_objects={'soft_dice_loss': soft_dice_loss, 'iou_coef': iou_coef})\n",
        "\n",
        "# if we want to fine tune the model we should use this code with loss function\n",
        "model = load_model(\"../tail_detection_model.h5\", custom_objects={'soft_dice_loss': soft_dice_loss, 'iou_coef': iou_coef})\n",
        "\n",
        "# model = load_model(\"road_mapper_final.h5\", compile=False)"
      ],
      "execution_count": null,
      "outputs": []
    },
    {
      "cell_type": "code",
      "source": [
        "# here is loop for freezing particular layer (dense_10 in this example)\n",
        "for i, layer in enumerate(model.layers):\n",
        "  if i<58:\n",
        "    layer.trainable = False"
      ],
      "metadata": {
        "id": "BYs29_YU99NI"
      },
      "execution_count": null,
      "outputs": []
    },
    {
      "cell_type": "code",
      "source": [
        "model.fit(X, Y, epochs=3, batch_size=5, verbose=1)"
      ],
      "metadata": {
        "colab": {
          "base_uri": "https://localhost:8080/"
        },
        "id": "4i8Ot6Yrc4Ge",
        "outputId": "ee291de3-3778-424b-bc4f-eb1556eb7575"
      },
      "execution_count": null,
      "outputs": [
        {
          "output_type": "stream",
          "name": "stdout",
          "text": [
            "Epoch 1/3\n",
            "120/120 [==============================] - 7s 21ms/step - loss: -0.8956 - iou_coef: 23.7254\n",
            "Epoch 2/3\n",
            "120/120 [==============================] - 3s 21ms/step - loss: -0.9119 - iou_coef: 25.4771\n",
            "Epoch 3/3\n",
            "120/120 [==============================] - 3s 22ms/step - loss: -0.9161 - iou_coef: 26.1176\n"
          ]
        },
        {
          "output_type": "execute_result",
          "data": {
            "text/plain": [
              "<keras.callbacks.History at 0x7f836cdb7a00>"
            ]
          },
          "metadata": {},
          "execution_count": 70
        }
      ]
    },
    {
      "cell_type": "code",
      "source": [
        "model.save(\"tail_detection_model.h5\")"
      ],
      "metadata": {
        "id": "ASs29xDyASfw"
      },
      "execution_count": null,
      "outputs": []
    },
    {
      "cell_type": "code",
      "source": [
        "# modelpath = \"tail_detection_model.h5\"\n",
        "model = load_model(\"tail_detection_model.h5\", custom_objects={'soft_dice_loss': soft_dice_loss, 'iou_coef': iou_coef})\n",
        "# modelpath = \"/content/drive/MyDrive/MATLAB/skeyenet/Models/road_mapper_final.h5\"\n",
        "# model = keras.models.load_model(modelpath)"
      ],
      "metadata": {
        "id": "LqF7Vqntq4HB",
        "colab": {
          "base_uri": "https://localhost:8080/"
        },
        "outputId": "12c8813a-3ad1-4235-8700-7845e4ce344c"
      },
      "execution_count": null,
      "outputs": [
        {
          "output_type": "stream",
          "name": "stderr",
          "text": [
            "WARNING:tensorflow:Error in loading the saved optimizer state. As a result, your model is starting with a freshly initialized optimizer.\n"
          ]
        }
      ]
    },
    {
      "cell_type": "code",
      "source": [
        "# --------------------------- TEST ---------------------------\n",
        "# x_test = cv2.resize(cv2.imread(\"/content/drive/MyDrive/Project/dataset/16.jpg\"), (256,256), interpolation = cv2.INTER_AREA)\n",
        "x_test = cv2.resize(cv2.imread(\"/content/drive/MyDrive/Project/data/mask/Copy of n-11-s-68.bmp\"), (128,128), interpolation = cv2.INTER_AREA)\n",
        "x_test = Image.fromarray(x_test)\n",
        "Icmyk = x_test.convert('CMYK')\n",
        "x_test = np.array(Icmyk)[:,:,1]\n",
        "\n",
        "img2 = np.zeros((128, 128, 3))\n",
        "img2[:,:,0] = x_test\n",
        "img2[:,:,1] = x_test\n",
        "img2[:,:,2] = x_test\n",
        "x_test = img2\n",
        "\n",
        "x_test = np.array(x_test)\n",
        "\n",
        "x = np.array([x_test, x_test])"
      ],
      "metadata": {
        "id": "FMCbjpKcpw5K"
      },
      "execution_count": null,
      "outputs": []
    },
    {
      "cell_type": "code",
      "metadata": {
        "id": "7TbTMDUqPy0l",
        "outputId": "986f49d4-4d7f-4b33-9fa6-4cdc4b2ecea4",
        "colab": {
          "base_uri": "https://localhost:8080/"
        }
      },
      "source": [
        "predictions = model.predict(x, verbose=1)"
      ],
      "execution_count": null,
      "outputs": [
        {
          "output_type": "stream",
          "name": "stdout",
          "text": [
            "1/1 [==============================] - 0s 35ms/step\n"
          ]
        }
      ]
    },
    {
      "cell_type": "code",
      "source": [
        "predictions.shape"
      ],
      "metadata": {
        "colab": {
          "base_uri": "https://localhost:8080/"
        },
        "id": "WBM4LN9GojmX",
        "outputId": "d77c3e17-bab3-4d2c-d44c-81f1211c102f"
      },
      "execution_count": null,
      "outputs": [
        {
          "output_type": "execute_result",
          "data": {
            "text/plain": [
              "(2, 128, 128, 1)"
            ]
          },
          "metadata": {},
          "execution_count": 81
        }
      ]
    },
    {
      "cell_type": "code",
      "source": [
        "p_list = []\n",
        "for p in predictions:\n",
        "  p_list.append(np.interp(p, (p.min(), p.max()), (0, 255)))\n",
        ""
      ],
      "metadata": {
        "id": "g5YQDI3Q3M9H"
      },
      "execution_count": null,
      "outputs": []
    },
    {
      "cell_type": "code",
      "source": [
        "cv2_imshow(p_list[0])\n",
        "cv2_imshow(x[0])"
      ],
      "metadata": {
        "id": "tnZkESF8-eL6",
        "colab": {
          "base_uri": "https://localhost:8080/",
          "height": 273
        },
        "outputId": "19b0829d-eee2-44b8-d0c8-c9a8121e423d"
      },
      "execution_count": null,
      "outputs": [
        {
          "output_type": "display_data",
          "data": {
            "text/plain": [
              "<PIL.Image.Image image mode=RGB size=128x128 at 0x7F8342FF7040>"
            ],
            "image/png": "[encoded data removed]"
          },
          "metadata": {}
        },
        {
          "output_type": "display_data",
          "data": {
            "text/plain": [
              "<PIL.Image.Image image mode=RGB size=128x128 at 0x7F835810B6A0>"
            ],
            "image/png": "[encoded data removed]"
          },
          "metadata": {}
        }
      ]
    }
  ]
}